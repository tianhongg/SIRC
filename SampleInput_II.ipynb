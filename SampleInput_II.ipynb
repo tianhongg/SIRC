{
 "cells": [
  {
   "cell_type": "code",
   "execution_count": 101,
   "id": "amino-healing",
   "metadata": {},
   "outputs": [
    {
     "name": "stdout",
     "output_type": "stream",
     "text": [
      "abeta is 3.5355339059327373\n",
      "\n",
      "wr is 176.7766952966369\n",
      "   or 274.00387770978716 eV\n",
      "\n",
      "wc is 937.4999999999999\n",
      "   or 1453.1249999999995 eV\n",
      "\n",
      "Nt is 444288\n",
      "\n"
     ]
    }
   ],
   "source": [
    "import numpy as np\n",
    "import h5py as h5\n",
    "import matplotlib.pyplot as plt\n",
    "import math\n",
    "\n",
    "\n",
    "px0=25; \n",
    "x0=0; \n",
    "\n",
    "py0=0; \n",
    "y0=1;\n",
    "\n",
    "pz0=0; \n",
    "z=0; \n",
    "\n",
    "tfin=100*(2*np.pi*np.sqrt(2*px0)); \n",
    "tstep=0.01;\n",
    "\n",
    "Nt=np.floor(tfin/tstep);\n",
    "Nt=np.int_(Nt)\n",
    "\n",
    "abeta=px0*y0/np.sqrt(2*px0); \n",
    "print(\"abeta is \"+str(abeta)+\"\\n\");\n",
    "wr=2*px0*px0/np.sqrt(2*px0); \n",
    "print(\"wr is \"+str(wr)+\"\\n   or \"+str(wr*1.24/0.8)+\" eV\\n\");\n",
    "wc=3*abeta*px0*px0/np.sqrt(2*px0); \n",
    "print(\"wc is \"+str(wc)+\"\\n   or \"+str(wc*1.24/0.8)+\" eV\\n\");\n",
    "print(\"Nt is \" +str(Nt)+\"\\n\");\n",
    "def SaveAsH5(rank):\n",
    "    \n",
    "    tt = np.arange(Nt)*tstep\n",
    "    \n",
    "    py = -np.sqrt(px0/2)*y0*np.sin(tt/np.sqrt(2*px0))\n",
    "    pz =                  0*np.sin(tt/np.sqrt(2*px0))\n",
    "    px =  np.sqrt(px0*px0-1-py*py)\n",
    "\n",
    "    xx = np.arange(Nt)*np.sqrt(1-1/px0/px0)*tstep\n",
    "    yy = y0*np.cos(tt/np.sqrt(2*px0))\n",
    "    zz =  0*np.cos(tt/np.sqrt(2*px0))\n",
    "        \n",
    "    \n",
    "    f = h5.File('Traj_%d_.h5'%rank,'w')\n",
    "    for p in np.arange(1):\n",
    "        grp = f.create_group('%d'%p)\n",
    "        dset = grp.create_dataset(\"xx\", (Nt,),data=xx)\n",
    "        dset = grp.create_dataset(\"yy\", (Nt,),data=yy)\n",
    "        dset = grp.create_dataset(\"zz\", (Nt,),data=zz)\n",
    "        dset = grp.create_dataset(\"px\", (Nt,),data=px)\n",
    "        dset = grp.create_dataset(\"py\", (Nt,),data=py)\n",
    "        dset = grp.create_dataset(\"pz\", (Nt,),data=pz)\n",
    "        dset = grp.create_dataset(\"weight\",(1,),data=1.0) #how many real unit charges it represents \n",
    "        dset = grp.create_dataset(\"start\", (1,),data=0) # starting time of trajectory\n",
    "         \n",
    "    f.close()"
   ]
  },
  {
   "cell_type": "code",
   "execution_count": 102,
   "id": "therapeutic-gregory",
   "metadata": {},
   "outputs": [],
   "source": [
    "for i in range(4):\n",
    "     SaveAsH5(i)"
   ]
  },
  {
   "cell_type": "code",
   "execution_count": 103,
   "id": "latest-stage",
   "metadata": {},
   "outputs": [
    {
     "data": {
      "image/png": "[encoded data removed]",
      "text/plain": [
       "<Figure size 432x288 with 1 Axes>"
      ]
     },
     "metadata": {
      "needs_background": "light"
     },
     "output_type": "display_data"
    },
    {
     "data": {
      "text/plain": [
       "array([  15.49749977,   25.81188925,   36.12627873,   46.4406682 ,\n",
       "         56.75505768,   67.06944716,   77.38383664,   87.69822612,\n",
       "         98.0126156 ,  108.32700507,  118.64139455,  128.95578403,\n",
       "        139.27017351,  149.58456299,  159.89895247,  170.21334195,\n",
       "        180.52773142,  190.8421209 ,  201.15651038,  211.47089986,\n",
       "        221.78528934,  232.09967882,  242.41406829,  252.72845777,\n",
       "        263.04284725,  273.35723673,  283.67162621,  293.98601569,\n",
       "        304.30040516,  314.61479464,  324.92918412,  335.2435736 ,\n",
       "        345.55796308,  355.87235256,  366.18674204,  376.50113151,\n",
       "        386.81552099,  397.12991047,  407.44429995,  417.75868943,\n",
       "        428.07307891,  438.38746838,  448.70185786,  459.01624734,\n",
       "        469.33063682,  479.6450263 ,  489.95941578,  500.27380525,\n",
       "        510.58819473,  520.90258421,  531.21697369,  541.53136317,\n",
       "        551.84575265,  562.16014212,  572.4745316 ,  582.78892108,\n",
       "        593.10331056,  603.41770004,  613.73208952,  624.046479  ,\n",
       "        634.36086847,  644.67525795,  654.98964743,  665.30403691,\n",
       "        675.61842639,  685.93281587,  696.24720534,  706.56159482,\n",
       "        716.8759843 ,  727.19037378,  737.50476326,  747.81915274,\n",
       "        758.13354221,  768.44793169,  778.76232117,  789.07671065,\n",
       "        799.39110013,  809.70548961,  820.01987909,  830.33426856,\n",
       "        840.64865804,  850.96304752,  861.277437  ,  871.59182648,\n",
       "        881.90621596,  892.22060543,  902.53499491,  912.84938439,\n",
       "        923.16377387,  933.47816335,  943.79255283,  954.1069423 ,\n",
       "        964.42133178,  974.73572126,  985.05011074,  995.36450022,\n",
       "       1005.6788897 , 1015.99327917, 1026.30766865, 1036.62205813,\n",
       "       1046.93644761, 1057.25083709, 1067.56522657, 1077.87961605,\n",
       "       1088.19400552, 1098.508395  , 1108.82278448, 1119.13717396,\n",
       "       1129.45156344, 1139.76595292, 1150.08034239, 1160.39473187,\n",
       "       1170.70912135, 1181.02351083, 1191.33790031, 1201.65228979,\n",
       "       1211.96667926, 1222.28106874, 1232.59545822, 1242.9098477 ,\n",
       "       1253.22423718, 1263.53862666, 1273.85301614, 1284.16740561,\n",
       "       1294.48179509, 1304.79618457, 1315.11057405, 1325.42496353,\n",
       "       1335.73935301, 1346.05374248, 1356.36813196, 1366.68252144,\n",
       "       1376.99691092, 1387.3113004 , 1397.62568988, 1407.94007935,\n",
       "       1418.25446883, 1428.56885831, 1438.88324779, 1449.19763727,\n",
       "       1459.51202675, 1469.82641622, 1480.1408057 , 1490.45519518,\n",
       "       1500.76958466, 1511.08397414, 1521.39836362, 1531.7127531 ,\n",
       "       1542.02714257, 1552.34153205, 1562.65592153, 1572.97031101,\n",
       "       1583.28470049, 1593.59908997, 1603.91347944, 1614.22786892,\n",
       "       1624.5422584 , 1634.85664788, 1645.17103736, 1655.48542684,\n",
       "       1665.79981631, 1676.11420579, 1686.42859527, 1696.74298475,\n",
       "       1707.05737423, 1717.37176371, 1727.68615319, 1738.00054266,\n",
       "       1748.31493214, 1758.62932162, 1768.9437111 , 1779.25810058,\n",
       "       1789.57249006, 1799.88687953, 1810.20126901, 1820.51565849,\n",
       "       1830.83004797, 1841.14443745, 1851.45882693, 1861.7732164 ,\n",
       "       1872.08760588, 1882.40199536, 1892.71638484, 1903.03077432,\n",
       "       1913.3451638 , 1923.65955328, 1933.97394275, 1944.28833223,\n",
       "       1954.60272171, 1964.91711119, 1975.23150067, 1985.54589015,\n",
       "       1995.86027962, 2006.1746691 , 2016.48905858, 2026.80344806,\n",
       "       2037.11783754, 2047.43222702, 2057.74661649, 2068.06100597,\n",
       "       2078.37539545, 2088.68978493, 2099.00417441, 2109.31856389,\n",
       "       2119.63295336, 2129.94734284, 2140.26173232, 2150.5761218 ,\n",
       "       2160.89051128, 2171.20490076, 2181.51929024, 2191.83367971,\n",
       "       2202.14806919, 2212.46245867, 2222.77684815, 2233.09123763,\n",
       "       2243.40562711, 2253.72001658, 2264.03440606, 2274.34879554,\n",
       "       2284.66318502, 2294.9775745 , 2305.29196398, 2315.60635345,\n",
       "       2325.92074293, 2336.23513241, 2346.54952189, 2356.86391137,\n",
       "       2367.17830085, 2377.49269033, 2387.8070798 , 2398.12146928,\n",
       "       2408.43585876, 2418.75024824, 2429.06463772, 2439.3790272 ,\n",
       "       2449.69341667, 2460.00780615, 2470.32219563, 2480.63658511,\n",
       "       2490.95097459, 2501.26536407, 2511.57975354, 2521.89414302,\n",
       "       2532.2085325 , 2542.52292198, 2552.83731146, 2563.15170094,\n",
       "       2573.46609041, 2583.78047989, 2594.09486937, 2604.40925885,\n",
       "       2614.72364833, 2625.03803781, 2635.35242729, 2645.66681676,\n",
       "       2655.98120624, 2666.29559572, 2676.6099852 , 2686.92437468,\n",
       "       2697.23876416, 2707.55315363, 2717.86754311, 2728.18193259,\n",
       "       2738.49632207, 2748.81071155, 2759.12510103, 2769.4394905 ,\n",
       "       2779.75387998, 2790.06826946, 2800.38265894, 2810.69704842,\n",
       "       2821.0114379 , 2831.32582738, 2841.64021685, 2851.95460633,\n",
       "       2862.26899581, 2872.58338529, 2882.89777477, 2893.21216425,\n",
       "       2903.52655372, 2913.8409432 , 2924.15533268, 2934.46972216,\n",
       "       2944.78411164, 2955.09850112, 2965.41289059, 2975.72728007,\n",
       "       2986.04166955, 2996.35605903, 3006.67044851, 3016.98483799,\n",
       "       3027.29922746, 3037.61361694, 3047.92800642, 3058.2423959 ,\n",
       "       3068.55678538, 3078.87117486, 3089.18556434, 3099.49995381])"
      ]
     },
     "execution_count": 103,
     "metadata": {},
     "output_type": "execute_result"
    }
   ],
   "source": [
    "filename = 'Synchrotron_00004_.h5'\n",
    "hf = h5.File(filename, 'r')\n",
    "Ax = np.square(np.array(hf['Ax_R']))+np.square(np.array(hf['Ax_I']))\n",
    "Ay = np.square(np.array(hf['Ay_R']))+np.square(np.array(hf['Ay_I']))\n",
    "Az = np.square(np.array(hf['Az_R']))+np.square(np.array(hf['Az_I']))\n",
    "eng = np.array(hf['Energy[eV]'])\n",
    "I = Ay+Ax+Az\n",
    "I.shape\n",
    "fig, ax = plt.subplots()\n",
    "\n",
    "ax.plot(eng, (I[:,0,0,0]), linewidth=2.0)\n",
    "ax.set_yscale('log')\n",
    "plt.show()\n",
    "eng"
   ]
  },
  {
   "cell_type": "code",
   "execution_count": null,
   "id": "atmospheric-disease",
   "metadata": {},
   "outputs": [],
   "source": []
  },
  {
   "cell_type": "code",
   "execution_count": null,
   "id": "practical-moldova",
   "metadata": {},
   "outputs": [],
   "source": []
  }
 ],
 "metadata": {
  "kernelspec": {
   "display_name": "Python 3",
   "language": "python",
   "name": "python3"
  },
  "language_info": {
   "codemirror_mode": {
    "name": "ipython",
    "version": 3
   },
   "file_extension": ".py",
   "mimetype": "text/x-python",
   "name": "python",
   "nbconvert_exporter": "python",
   "pygments_lexer": "ipython3",
   "version": "3.9.10"
  }
 },
 "nbformat": 4,
 "nbformat_minor": 5
}
