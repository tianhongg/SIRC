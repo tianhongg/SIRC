{
 "cells": [
  {
   "cell_type": "code",
   "execution_count": 4,
   "id": "permanent-subject",
   "metadata": {},
   "outputs": [],
   "source": [
    "import numpy as np\n",
    "import h5py as h5\n",
    "import matplotlib.pyplot as plt\n",
    "%matplotlib inline\n",
    "\n",
    "\n",
    "def SaveAsH5(rank):\n",
    "    \n",
    "    xx = np.arange(100)*0.9995*0.1\n",
    "    yy = np.cos(xx/10+3.14)\n",
    "    zz = np.cos(xx/10)\n",
    "        \n",
    "    px = np.ones(100)*10\n",
    "    py = -np.sin(xx/10+3.14)\n",
    "    pz = -np.sin(xx/10)\n",
    "        \n",
    "    \n",
    "    f = h5.File('Traj_%d_.h5'%rank,'w')\n",
    "    for p in np.arange(19):\n",
    "        grp = f.create_group('%d'%p)\n",
    "        dset = grp.create_dataset(\"xx\", (100,),data=xx)\n",
    "        dset = grp.create_dataset(\"yy\", (100,),data=yy)\n",
    "        dset = grp.create_dataset(\"zz\", (100,),data=zz)\n",
    "        dset = grp.create_dataset(\"px\", (100,),data=px)\n",
    "        dset = grp.create_dataset(\"py\", (100,),data=py)\n",
    "        dset = grp.create_dataset(\"pz\", (100,),data=pz)\n",
    "        dset = grp.create_dataset(\"weight\",(1,),data=1.0) #how many real unit charges it represents \n",
    "        dset = grp.create_dataset(\"start\", (1,),data=p) # starting time of trajectory\n",
    "         \n",
    "    f.close()"
   ]
  },
  {
   "cell_type": "code",
   "execution_count": 5,
   "id": "unusual-forty",
   "metadata": {},
   "outputs": [],
   "source": [
    "for i in range(4):\n",
    "     SaveAsH5(i)"
   ]
  },
  {
   "cell_type": "code",
   "execution_count": 6,
   "id": "sacred-authorization",
   "metadata": {},
   "outputs": [
    {
     "name": "stdout",
     "output_type": "stream",
     "text": [
      "Traj_0_.h5  Traj_1_.h5  Traj_2_.h5  Traj_3_.h5\n"
     ]
    }
   ],
   "source": [
    "ls Traj*"
   ]
  },
  {
   "cell_type": "code",
   "execution_count": null,
   "id": "played-dispatch",
   "metadata": {},
   "outputs": [],
   "source": []
  }
 ],
 "metadata": {
  "kernelspec": {
   "display_name": "Python 3",
   "language": "python",
   "name": "python3"
  },
  "language_info": {
   "codemirror_mode": {
    "name": "ipython",
    "version": 3
   },
   "file_extension": ".py",
   "mimetype": "text/x-python",
   "name": "python",
   "nbconvert_exporter": "python",
   "pygments_lexer": "ipython3",
   "version": "3.9.10"
  }
 },
 "nbformat": 4,
 "nbformat_minor": 5
}
