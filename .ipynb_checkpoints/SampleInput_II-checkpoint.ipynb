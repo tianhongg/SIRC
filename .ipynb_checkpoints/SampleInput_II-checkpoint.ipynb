{
 "cells": [
  {
   "cell_type": "code",
   "execution_count": 458,
   "id": "brave-nation",
   "metadata": {},
   "outputs": [
    {
     "name": "stdout",
     "output_type": "stream",
     "text": [
      "abeta is 4.47213595499958\n",
      "\n",
      "wr is 44.72135954999579\n",
      "   or 69.31810730249347 eV\n",
      "\n",
      "wc is 300.00000000000006\n",
      "   or 465.00000000000006 eV\n",
      "\n",
      "Nt is 140496\n",
      "\n",
      "dt is 0.01\n",
      "\n"
     ]
    }
   ],
   "source": [
    "import numpy as np\n",
    "import h5py as h5\n",
    "import matplotlib.pyplot as plt\n",
    "import math\n",
    "\n",
    "\n",
    "px0=10; \n",
    "y0=2;\n",
    "\n",
    "\n",
    "Nb=50;\n",
    "\n",
    "tfin=Nb*(2*np.pi*np.sqrt(2*px0)); \n",
    "tstep=0.005;\n",
    "\n",
    "Nt=np.int_(np.floor(tfin/tstep));\n",
    "\n",
    "abeta=px0*y0/np.sqrt(2*px0); \n",
    "print(\"abeta is \"+str(abeta)+\"\\n\");\n",
    "wr=2*px0*px0/np.sqrt(2*px0); \n",
    "print(\"wr is \"+str(wr)+\"\\n   or \"+str(wr*1.24/0.8)+\" eV\\n\");\n",
    "wc=3*abeta*px0*px0/np.sqrt(2*px0); \n",
    "print(\"wc is \"+str(wc)+\"\\n   or \"+str(wc*1.24/0.8)+\" eV\\n\");\n",
    "print(\"Nt is \" +str(Nt)+\"\\n\");\n",
    "print(\"dt is \" +str(tstep)+\"\\n\");\n",
    "def SaveAsH5(rank):\n",
    "    \n",
    "    tt = np.arange(Nt)*tstep\n",
    "    \n",
    "    px =  np.ones(Nt)*px0\n",
    "    py = -np.sqrt(px0/2)*y0*np.sin(tt/np.sqrt(2*px0))\n",
    "    pz =                  0*np.sin(tt/np.sqrt(2*px0))\n",
    "\n",
    "    xx = np.arange(Nt)*np.sqrt(1-1/px0/px0)*tstep\n",
    "    yy = y0*np.cos(tt/np.sqrt(2*px0))\n",
    "    zz =  0*np.cos(tt/np.sqrt(2*px0))\n",
    "        \n",
    "    \n",
    "    f = h5.File('Traj_%d_.h5'%rank,'w')\n",
    "    for p in np.arange(1):\n",
    "        grp = f.create_group('%d'%p)\n",
    "        dset = grp.create_dataset(\"xx\", (Nt,),data=xx)\n",
    "        dset = grp.create_dataset(\"yy\", (Nt,),data=yy)\n",
    "        dset = grp.create_dataset(\"zz\", (Nt,),data=zz)\n",
    "        dset = grp.create_dataset(\"px\", (Nt,),data=px)\n",
    "        dset = grp.create_dataset(\"py\", (Nt,),data=py)\n",
    "        dset = grp.create_dataset(\"pz\", (Nt,),data=pz)\n",
    "        dset = grp.create_dataset(\"weight\",(1,),data=1.0) #how many real unit charges it represents \n",
    "        dset = grp.create_dataset(\"start\", (1,),data=0) # starting time of trajectory\n",
    "         \n",
    "    f.close()\n",
    "    \n",
    "    \n",
    "for i in range(4):\n",
    "     SaveAsH5(i)"
   ]
  },
  {
   "cell_type": "code",
   "execution_count": 457,
   "id": "described-theory",
   "metadata": {},
   "outputs": [],
   "source": [
    "%%capture\n",
    "rm Synchrotron_0000* ; mpiexec -n 4 SIRC "
   ]
  },
  {
   "cell_type": "code",
   "execution_count": 455,
   "id": "union-missile",
   "metadata": {},
   "outputs": [
    {
     "data": {
      "image/png": "[encoded data removed]",
      "text/plain": [
       "<Figure size 576x432 with 1 Axes>"
      ]
     },
     "metadata": {
      "needs_background": "light"
     },
     "output_type": "display_data"
    }
   ],
   "source": [
    "filename = 'Synchrotron_00004_.h5'\n",
    "hf = h5.File(filename, 'r')\n",
    "Ax = np.square(np.array(hf['Ax_R']))+np.square(np.array(hf['Ax_I']))\n",
    "Ay = np.square(np.array(hf['Ay_R']))+np.square(np.array(hf['Ay_I']))\n",
    "Az = np.square(np.array(hf['Az_R']))+np.square(np.array(hf['Az_I']))\n",
    "eng = np.array(hf['Energy[eV]'])\n",
    "I = Ay+Ax+Az\n",
    "\n",
    "\n",
    "\n",
    "fig, ax = plt.subplots()\n",
    "\n",
    "ax.plot(eng, (I[:,0,0,0]), linewidth=4.0)\n",
    "\n",
    "\n",
    "\n",
    "for label in (ax.get_xticklabels() + ax.get_yticklabels()):\n",
    "        label.set_fontsize(24)\n",
    "ax.set_xlabel('eV', fontsize=24)\n",
    "ax.set_ylabel('I', fontsize=24)\n",
    "fig.tight_layout()\n",
    "fig.set_size_inches(8, 6)\n",
    "# ax.set(ylim=(0,np.max(I)*1.1),xlim=(0,2000))\n",
    "# ax.set(ylim=(0.001,np.max(I)*2.1))\n",
    "ax.set_title('step=%s; interp=1'%tstep, fontsize=24)\n",
    "# ax.patch.set_alpha(0.0)\n",
    "# ax.set_yscale('log')\n",
    "plt.show()"
   ]
  },
  {
   "cell_type": "code",
   "execution_count": null,
   "id": "stone-image",
   "metadata": {},
   "outputs": [],
   "source": []
  },
  {
   "cell_type": "code",
   "execution_count": null,
   "id": "sorted-garden",
   "metadata": {},
   "outputs": [],
   "source": []
  }
 ],
 "metadata": {
  "kernelspec": {
   "display_name": "Python 3",
   "language": "python",
   "name": "python3"
  },
  "language_info": {
   "codemirror_mode": {
    "name": "ipython",
    "version": 3
   },
   "file_extension": ".py",
   "mimetype": "text/x-python",
   "name": "python",
   "nbconvert_exporter": "python",
   "pygments_lexer": "ipython3",
   "version": "3.9.10"
  }
 },
 "nbformat": 4,
 "nbformat_minor": 5
}
